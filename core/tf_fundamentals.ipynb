{
 "metadata": {
  "language_info": {
   "codemirror_mode": {
    "name": "ipython",
    "version": 3
   },
   "file_extension": ".py",
   "mimetype": "text/x-python",
   "name": "python",
   "nbconvert_exporter": "python",
   "pygments_lexer": "ipython3",
   "version": "3.8.5-final"
  },
  "orig_nbformat": 2,
  "kernelspec": {
   "name": "python3",
   "display_name": "Python 3.8.5 64-bit ('standardenv': conda)",
   "metadata": {
    "interpreter": {
     "hash": "96b3fd1559923f45a2a7d38e899d8d549575064782cdf1848d466cdc642efcd4"
    }
   }
  }
 },
 "nbformat": 4,
 "nbformat_minor": 2,
 "cells": [
  {
   "source": [
    "# Tensorflow 2.0 Fundamentals\n",
    "\n",
    "This is a simple notebook to gather a better understanding of Tensorflow and how to use its lowest level building blocks.\n",
    "\n",
    "## What is Tensorflow?\n",
    "\n",
    "Tensorflow is open source and supported by Google.  \n",
    "\n",
    "Main purposes of TF:\n",
    "* Image Classification\n",
    "* Data Clustering\n",
    "* Regression\n",
    "* Reinforcement Learning\n",
    "* NLP\n",
    "\n",
    "### How is it structured?\n",
    "\n",
    "TF has two main components:\n",
    "* Graphs\n",
    "* Sessions\n",
    "\n",
    "TF is building a *graph* of defined computations.  ***There is nothing stored or computed in the graph***. It is just a way of defining the operations that have been written in code.  This is because different computations can be linked together.\n",
    "\n",
    "The *session* allows parts of th graph to be executed.  It allocated memory and resources and handles the executions of the operations and computations we defined.  It starts at the lowest level of the graph and moves through the graph as the computations are defined.\n",
    "\n",
    "So like when creating a variable the graph states the computations defined.  So like adding two variables they are defined in the graph and the computation of a + b."
   ],
   "cell_type": "markdown",
   "metadata": {}
  },
  {
   "source": [
    "### Google Collab Tip\n",
    "\n",
    "If using Google Collab then run \n",
    "\n",
    "\"%tensorflow_version 2.x  # this line is not required unless you are in a notebook\" \n",
    "\n",
    "Restart runtime if a different version is selected.\n"
   ],
   "cell_type": "markdown",
   "metadata": {}
  },
  {
   "cell_type": "code",
   "execution_count": null,
   "metadata": {},
   "outputs": [],
   "source": [
    "import tensorflow as tf  # now import the tensorflow module\n",
    "print(tf.version)  # make sure the version is 2.x"
   ]
  },
  {
   "source": [
    "## Tensors!\n",
    "\n",
    "This is vector generalization to higher dimensions.  Internally, TF represents tensors as n-dim arrays of base datatypes.\n",
    "\n",
    "Each tensor is a partially defined computation that are passed around and maniplated throughout the program.  When the session is running you are able to get information from the tensors on the graph as they are processed.  Running different parts of the graph allow results to be generated.\n",
    "\n",
    "### Tensor basic characteristics\n",
    "\n",
    "***Tensors*** have: \n",
    "\n",
    "1) A data type\n",
    "\n",
    "2) Shape\n",
    "\n",
    "The Data types include: float32, int32, string, and others\n",
    "\n",
    "Shape: represents the dimensions of the data"
   ],
   "cell_type": "markdown",
   "metadata": {}
  },
  {
   "source": [
    "## Creating Tensors"
   ],
   "cell_type": "markdown",
   "metadata": {}
  },
  {
   "source": [
    "These simple tensors below are all of shape 0, but of different dtypes.  You don't typically define individual values. \n",
    "\n",
    "These below are of rank 0, because they are scalar values"
   ],
   "cell_type": "markdown",
   "metadata": {}
  },
  {
   "cell_type": "code",
   "execution_count": null,
   "metadata": {},
   "outputs": [],
   "source": [
    "string = tf.Variable(\"this is a string\", tf.string)\n",
    "number = tf.Variable(324, tf.int16)\n",
    "floating = tf.Variable(3.464, tf.float64)\n",
    "\n",
    "print(string.shape)\n",
    "print(number)\n",
    "print(floating)\n"
   ]
  },
  {
   "source": [
    "### Rank/Degree of Tensors\n",
    "\n",
    "Rank is the number of n-degrees involved in the tensor.  \n",
    "\n",
    "Higher degree tensors\n"
   ],
   "cell_type": "markdown",
   "metadata": {}
  },
  {
   "cell_type": "code",
   "execution_count": null,
   "metadata": {},
   "outputs": [],
   "source": [
    "rank1_tensor = tf.Variable(['foo', 'bar'], tf.string)\n",
    "rank2_tensor = tf.Variable([['foo', 'bar'], ['bar', 'foo']], tf.string)\n",
    "\n",
    "print('Rank 1: ie a vector')\n",
    "print(rank1_tensor)\n",
    "print(\"-----\")\n",
    "print(\"Rank 2: a 2 column matrix\")\n",
    "print(rank2_tensor)"
   ]
  },
  {
   "cell_type": "code",
   "execution_count": null,
   "metadata": {},
   "outputs": [],
   "source": [
    "# Figuring out the rank\n",
    "\n",
    "tf.rank(rank1_tensor)\n",
    "tf.rank(rank2_tensor) # The numpy 2 means rank 2"
   ]
  },
  {
   "source": [
    "## Shape of Tensors\n",
    "\n",
    "It tells us how many items in each dimension.  \n",
    "\n",
    "E.g.  (2, 3, 4) \n",
    "* 2 = column number of vectors\n",
    "* 3 = number of items in the column vector\n",
    "* 4 = the number of items in the individual vector"
   ],
   "cell_type": "markdown",
   "metadata": {}
  },
  {
   "cell_type": "code",
   "execution_count": null,
   "metadata": {},
   "outputs": [],
   "source": [
    "rank3_tensor = tf.Variable([['foo', 'bar'], ['bar', 'foo'], ['bar', 'foo']], tf.string)\n",
    "tf.shape(rank3_tensor)"
   ]
  },
  {
   "source": [
    "## IMP!! Changing the shape of tenors\n",
    "\n",
    "This allows tensors to be reshaped into a different shape.  Using tf.reshape.\n",
    "\n",
    "The reshaped value has to be same number as the original shape when multipling the values together.  \n",
    "\n",
    "Therefore, a tenor of shape (3,2,2) is 12 and you can reshape it to (3,4). But (3,3) is invalid cause it'll only be 9"
   ],
   "cell_type": "markdown",
   "metadata": {}
  },
  {
   "cell_type": "code",
   "execution_count": null,
   "metadata": {},
   "outputs": [],
   "source": [
    "t1 = tf.ones([1,2,3])\n",
    "\n",
    "# reshaping into something else but maintaining the data\n",
    "print(tf.reshape(t1, [2,3,1]))\n",
    "print(\"---------\")\n",
    "print(tf.reshape(t1, [3,-1]))  \n",
    "# the -1 tells the tensor to calculate the size of the dimension in that place"
   ]
  },
  {
   "cell_type": "code",
   "execution_count": null,
   "metadata": {},
   "outputs": [],
   "source": [
    "t1 = tf.zeros([5,5,5,5]) # this is 625 or 5^5\n",
    "print(t1)"
   ]
  },
  {
   "cell_type": "code",
   "execution_count": null,
   "metadata": {},
   "outputs": [],
   "source": [
    "tf.reshape(t1, [125, -1]) # the -1 is like 'im lazy, so TF figure out what the other variable needs to be "
   ]
  },
  {
   "source": [
    "## Types of tensors\n",
    "\n",
    "For the time being, tensors come a bunch of different types.  These are the most commonly used.\n",
    "\n",
    "* Variable\n",
    "* Constant\n",
    "* Placeholder\n",
    "* SpareTensor\n",
    "\n",
    "With the exception of `Variable` they are all immutable.\n",
    "\n",
    "## Evaluting tensors\n",
    "Since tensors represent a partially complete computation they will need to be ran in a ***session*** to evaluate the tensor.\n",
    "\n",
    "This the simpliest way to do it"
   ],
   "cell_type": "markdown",
   "metadata": {}
  },
  {
   "cell_type": "code",
   "execution_count": null,
   "metadata": {},
   "outputs": [],
   "source": [
    "with tf.Session() as sess: # create a session using the default graph\n",
    "    tensor.eval() # tensor will be the name of the defined tensor"
   ]
  },
  {
   "cell_type": "code",
   "execution_count": null,
   "metadata": {},
   "outputs": [],
   "source": []
  }
 ]
}