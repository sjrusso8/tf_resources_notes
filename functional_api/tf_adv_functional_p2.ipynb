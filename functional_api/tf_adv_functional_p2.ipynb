{
 "metadata": {
  "language_info": {
   "codemirror_mode": {
    "name": "ipython",
    "version": 3
   },
   "file_extension": ".py",
   "mimetype": "text/x-python",
   "name": "python",
   "nbconvert_exporter": "python",
   "pygments_lexer": "ipython3",
   "version": "3.8.5-final"
  },
  "orig_nbformat": 2,
  "kernelspec": {
   "name": "python3",
   "display_name": "Python 3.8.5 64-bit ('standardenv': conda)",
   "metadata": {
    "interpreter": {
     "hash": "96b3fd1559923f45a2a7d38e899d8d549575064782cdf1848d466cdc642efcd4"
    }
   }
  }
 },
 "nbformat": 4,
 "nbformat_minor": 2,
 "cells": [
  {
   "source": [
    "# More Advanced Functional Models - Part 2\n",
    "\n",
    "Using the site <https://www.tensorflow.org/guide/keras/functional?hl=en> as a guide to practice coding up more complex models."
   ],
   "cell_type": "markdown",
   "metadata": {}
  },
  {
   "source": [
    "## Complex Graph Topologies\n",
    "\n",
    "### Multiple inputs and outputs\n",
    "\n",
    "Setting up a system for ranking customer issue tickets by priority and routing them to the correct department.  \n",
    "\n",
    "The model will have 3 inputs:\n",
    "* title of the ticket (text input)\n",
    "* test of the ticket (text input)\n",
    "* tags (categorical input)\n",
    "\n",
    "This model will have 2 outputs:\n",
    "* the priority score of 0 - 1 (scalar sigmoid outputs)\n",
    "* department that should handle the ticket (softmax output over the set of departments)"
   ],
   "cell_type": "markdown",
   "metadata": {}
  },
  {
   "cell_type": "code",
   "execution_count": null,
   "metadata": {},
   "outputs": [],
   "source": [
    "import tensorflow as tf\n",
    "import numpy as np\n",
    "\n",
    "print(tf.__version__)"
   ]
  },
  {
   "cell_type": "code",
   "execution_count": null,
   "metadata": {},
   "outputs": [],
   "source": [
    "# Define the number of tags, words, and departments\n",
    "num_tags = 12\n",
    "num_words = 10000\n",
    "num_department = 4"
   ]
  },
  {
   "cell_type": "code",
   "execution_count": null,
   "metadata": {},
   "outputs": [],
   "source": [
    "title_input = tf.keras.Input(shape=(None,), name=\"title\")  # variable length of sequence\n",
    "body_input = tf.keras.Input(shape=(None,), name=\"body\") # again, sequence text for body\n",
    "tags_input = tf.keras.Input(shape=(num_tags,),name=\"tags\") # category of text\n",
    "\n",
    "# create embeddings\n",
    "title_features = tf.keras.layers.Embedding(num_words, 64)(title_input)\n",
    "body_features = tf.keras.layers.Embedding(num_words, 64)(body_input)\n",
    "\n",
    "# reduce sequence of embedded words into a single 128-dim vector\n",
    "title_features = tf.keras.layers.LSTM(128)(title_features)\n",
    "# reduce sequence of embedded words into 32 dim vectors\n",
    "body_features = tf.keras.layers.LSTM(128)(body_features)\n",
    "\n",
    "# merge all available features into a single large vector\n",
    "x = tf.keras.layers.concatenate([title_features, body_features, tags_input])\n",
    "\n",
    "# define outputs for priority\n",
    "priority_pred = tf.keras.layers.Dense(1, name=\"priority\")(x)\n",
    "# define outputs for department\n",
    "department_pred = tf.keras.layers.Dense(num_department, name=\"department\")(x)\n",
    "\n",
    "model = tf.keras.Model(\n",
    "    inputs=[title_input, body_input, tags_input],\n",
    "    outputs=[priority_pred, department_pred]\n",
    ")"
   ]
  },
  {
   "source": [
    "![plot model](./model_plot/output_52c4dc6fd93e_0.png)"
   ],
   "cell_type": "markdown",
   "metadata": {}
  },
  {
   "cell_type": "code",
   "execution_count": null,
   "metadata": {},
   "outputs": [],
   "source": [
    "model.compile(\n",
    "    optimizer=tf.keras.optimizers.RMSprop(1e-3),\n",
    "    loss=[\n",
    "        tf.keras.losses.BinaryCrossentropy(from_logits=True),\n",
    "        tf.keras.losses.CategoricalCrossentropy(from_logits=True)   \n",
    "    ],\n",
    "    loss_weights=[1.0,0.2]\n",
    ")"
   ]
  },
  {
   "cell_type": "code",
   "execution_count": null,
   "metadata": {},
   "outputs": [],
   "source": [
    "print(model.to_json())"
   ]
  },
  {
   "source": [
    "### Creating dummy data"
   ],
   "cell_type": "markdown",
   "metadata": {}
  },
  {
   "cell_type": "code",
   "execution_count": null,
   "metadata": {},
   "outputs": [],
   "source": [
    "# Dummy data\n",
    "title_data = np.random.randint(num_words, size=(1280, 10))\n",
    "body_data = np.random.randint(num_words, size=(1280,100))\n",
    "tags_data = np.random.randint(2, size=(1280, num_tags)).astype(\"float32\")\n",
    "\n",
    "# dummy target\n",
    "priority_target = np.random.random(size=(1280,1))\n",
    "dept_targets = np.random.randint(2, size=(1280, num_department))"
   ]
  },
  {
   "cell_type": "code",
   "execution_count": null,
   "metadata": {},
   "outputs": [],
   "source": [
    "model.fit(\n",
    "    {\n",
    "        \"title\": title_data, \n",
    "        \"body\": body_data,\n",
    "        \"tags\": tags_data\n",
    "    },\n",
    "    {\n",
    "        \"priority\": priority_target,\n",
    "        \"department\": dept_targets\n",
    "    },\n",
    "    epochs=2,\n",
    "    batch_size=32,\n",
    ")"
   ]
  },
  {
   "cell_type": "code",
   "execution_count": null,
   "metadata": {},
   "outputs": [],
   "source": []
  }
 ]
}